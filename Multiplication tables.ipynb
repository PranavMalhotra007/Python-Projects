{
 "cells": [
  {
   "cell_type": "code",
   "execution_count": null,
   "id": "7e4b99ce",
   "metadata": {},
   "outputs": [],
   "source": [
    "class Multiplication:\n",
    "    def table(self):\n",
    "        print(\"Multplicatoin Tables\".center(100))\n",
    "        print('\\n')\n",
    "        for i in range(2,self.value+1):\n",
    "            for j in range(1,11):\n",
    "                 print((\"%3d %3s %2d %3s %4d\"%(i,\" X \",j,\" = \",j*i)).center(100))\n",
    "            print('\\n')\n",
    "a=Multiplication()\n",
    "a.value=int(input(\"Enter the value: \"))\n",
    "print('\\n')\n",
    "a.table()"
   ]
  },
  {
   "cell_type": "code",
   "execution_count": null,
   "id": "2dae0f88",
   "metadata": {},
   "outputs": [],
   "source": []
  }
 ],
 "metadata": {
  "kernelspec": {
   "display_name": "Python 3 (ipykernel)",
   "language": "python",
   "name": "python3"
  },
  "language_info": {
   "codemirror_mode": {
    "name": "ipython",
    "version": 3
   },
   "file_extension": ".py",
   "mimetype": "text/x-python",
   "name": "python",
   "nbconvert_exporter": "python",
   "pygments_lexer": "ipython3",
   "version": "3.9.13"
  }
 },
 "nbformat": 4,
 "nbformat_minor": 5
}
